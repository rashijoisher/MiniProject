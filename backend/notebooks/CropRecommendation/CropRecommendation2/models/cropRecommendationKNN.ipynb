{
 "cells": [
  {
   "cell_type": "code",
   "execution_count": null,
   "metadata": {},
   "outputs": [],
   "source": [
    "# Import Libraries\n",
    "import pandas as pd\n",
    "import numpy as np\n",
    "import matplotlib.pyplot as plt\n",
    "from sklearn.model_selection import train_test_split\n",
    "from sklearn import metrics\n",
    "from sklearn.model_selection import cross_val_score\n",
    "from sklearn.metrics import classification_report\n",
    "from sklearn.preprocessing import Normalizer\n",
    "from sklearn.model_selection import validation_curve\n",
    "# Models\n",
    "from sklearn.neighbors import KNeighborsClassifier"
   ]
  },
  {
   "cell_type": "code",
   "execution_count": null,
   "metadata": {},
   "outputs": [],
   "source": [
    "# Define DataFrame\n",
    "cropRecommendationA2=pd.read_csv(\"../../../../preprocessedData/CropRecommentationApproach2.csv\")"
   ]
  },
  {
   "cell_type": "code",
   "execution_count": null,
   "metadata": {},
   "outputs": [],
   "source": [
    "features=cropRecommendationA2[[\"N\",\"P\",\"K\",\"temperature\",\"humidity\",\"rainfall\"]]\n",
    "target=cropRecommendationA2[\"label\"]"
   ]
  },
  {
   "cell_type": "code",
   "execution_count": null,
   "metadata": {},
   "outputs": [],
   "source": [
    "# Normalization\n",
    "normalizer=Normalizer()\n",
    "normalizer.fit(features)\n",
    "features=normalizer.transform(features)"
   ]
  },
  {
   "cell_type": "code",
   "execution_count": null,
   "metadata": {},
   "outputs": [],
   "source": [
    "# Train Test Split\n",
    "X_train,X_test,Y_train,Y_test=train_test_split(features,target,test_size=0.1,random_state=2)"
   ]
  },
  {
   "cell_type": "code",
   "execution_count": null,
   "metadata": {},
   "outputs": [],
   "source": [
    "parameter_range = np.arange(1, 10, 1) \n",
    "train_score, test_score = validation_curve(KNeighborsClassifier(n_neighbors=5), X_train, Y_train, param_name = \"n_neighbors\",param_range = parameter_range,scoring = \"accuracy\",cv=5)\n",
    "mean_train_score = np.mean(train_score, axis = 1) \n",
    "std_train_score = np.std(train_score, axis = 1) \n",
    "  \n",
    "mean_test_score = np.mean(test_score, axis = 1) \n",
    "std_test_score = np.std(test_score, axis = 1) \n",
    "  \n",
    "plt.plot(parameter_range, mean_train_score,  \n",
    "     label = \"Training Score\", color = 'b') \n",
    "plt.plot(parameter_range, mean_test_score, \n",
    "   label = \"Cross Validation Score\", color = 'g') \n",
    "  \n",
    "plt.title(\"Validation Curve with KNN Classifier\") \n",
    "plt.xlabel(\"Number of Neighbours\") \n",
    "plt.ylabel(\"Accuracy\") \n",
    "plt.tight_layout() \n",
    "plt.show()"
   ]
  },
  {
   "cell_type": "code",
   "execution_count": null,
   "metadata": {},
   "outputs": [],
   "source": [
    "# Training\n",
    "KNeighbors=KNeighborsClassifier(n_neighbors=6)\n",
    "KNeighbors.fit(X_train,Y_train)"
   ]
  },
  {
   "cell_type": "code",
   "execution_count": null,
   "metadata": {},
   "outputs": [],
   "source": [
    "# Testing\n",
    "predicted_values=KNeighbors.predict(X_test)\n",
    "predicted_values"
   ]
  },
  {
   "cell_type": "code",
   "execution_count": null,
   "metadata": {},
   "outputs": [],
   "source": [
    "# Accuracy\n",
    "accuracy_score=metrics.accuracy_score(Y_test, predicted_values)\n",
    "print(\"Crop Recommendation Accuracy:\",accuracy_score)"
   ]
  },
  {
   "cell_type": "code",
   "execution_count": null,
   "metadata": {},
   "outputs": [],
   "source": [
    "# Cross Validation Score\n",
    "cross_val_score=cross_val_score(KNeighbors,features,target,cv=5)\n",
    "print(\"Crop Validation Score: \",*cross_val_score)"
   ]
  },
  {
   "cell_type": "code",
   "execution_count": null,
   "metadata": {},
   "outputs": [],
   "source": [
    "# Classofication Report\n",
    "print(classification_report(Y_test,predicted_values))"
   ]
  }
 ],
 "metadata": {
  "kernelspec": {
   "display_name": "Python 3",
   "language": "python",
   "name": "python3"
  },
  "language_info": {
   "codemirror_mode": {
    "name": "ipython",
    "version": 3
   },
   "file_extension": ".py",
   "mimetype": "text/x-python",
   "name": "python",
   "nbconvert_exporter": "python",
   "pygments_lexer": "ipython3",
   "version": "3.8.7-final"
  },
  "orig_nbformat": 2
 },
 "nbformat": 4,
 "nbformat_minor": 2
}
